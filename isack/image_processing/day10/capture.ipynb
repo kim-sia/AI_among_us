{
 "cells": [
  {
   "cell_type": "code",
   "execution_count": 18,
   "metadata": {},
   "outputs": [],
   "source": [
    "#위의 방법은 한 사진에 계속 덮어쓰게 한다\n",
    "#시간을 이름에 넣어 여러 사진저장하는 방법\n",
    "from PIL import ImageGrab\n",
    "import time \n",
    "\n",
    "now = time.localtime()\n",
    "time = \"%04d-%02d-%02d-%02dh-%02dm-%02ds\" % (now.tm_year, now.tm_mon, \n",
    "                                             now.tm_mday, now.tm_hour, \n",
    "                                             now.tm_min, now.tm_sec)\n",
    "\n",
    "img = ImageGrab.grab()\n",
    "saveas = '{}{}'.format(time,'.png')\n",
    "img.save(saveas)"
   ]
  },
  {
   "cell_type": "code",
   "execution_count": 1,
   "metadata": {},
   "outputs": [
    {
     "name": "stdout",
     "output_type": "stream",
     "text": [
      "Requirement already satisfied: pillow in c:\\users\\sackd\\anaconda3\\envs\\tf\\lib\\site-packages (7.2.0)\n",
      "Note: you may need to restart the kernel to use updated packages.\n"
     ]
    }
   ],
   "source": [
    "pip install pillow"
   ]
  },
  {
   "cell_type": "code",
   "execution_count": 19,
   "metadata": {},
   "outputs": [],
   "source": [
    "import smtplib, os\n",
    "from email import encoders #이미지 같은것을 문자열로 변환해줌\n",
    "from email.mime.text import MIMEText #메세지의 제목을 설정하기 위한 모듈\n",
    "from email.mime.multipart import MIMEMultipart #메세지의 내용을 설정하기 위한 모듈\n",
    "from email.mime.base import MIMEBase #전송할 때 사용하는 모듈"
   ]
  },
  {
   "cell_type": "code",
   "execution_count": 17,
   "metadata": {},
   "outputs": [],
   "source": [
    "#화면캡처\n",
    "from PIL import ImageGrab\n",
    "img = ImageGrab.grab()\n",
    "saveas = 'screenshot.png'\n",
    "img.save(saveas)"
   ]
  },
  {
   "cell_type": "code",
   "execution_count": 20,
   "metadata": {},
   "outputs": [
    {
     "data": {
      "text/plain": [
       "(221, b'2.0.0 closing connection bj2sm601537pjb.20 - gsmtp')"
      ]
     },
     "execution_count": 20,
     "metadata": {},
     "output_type": "execute_result"
    }
   ],
   "source": [
    "# 발송 이메일\n",
    "fromaddress = 'sackda24@likelion.org'\n",
    "pw = 'pw'\n",
    "\n",
    "#수신 이메일\n",
    "toaddress = 'sackda24@naver.com'\n",
    "\n",
    "#이메일 제목\n",
    "msg = MIMEMultipart()\n",
    "msg['Subject'] = '이메일 테스트를 하고있습니다.'\n",
    "\n",
    "#이메일 내용\n",
    "text = MIMEText('안녕하세요. 지금은 테스트 중입니다.')\n",
    "\n",
    "#이메일 제목과 내용 합치기\n",
    "msg.attach(text)\n",
    "\n",
    "s = smtplib.SMTP('smtp.gmail.com',587) #587: google smpt server password\n",
    "s.starttls() #tls방식으로 smpt 서버 접속\n",
    "s.login(fromaddress, pw) #fromaddress에 로그인\n",
    "\n",
    "#이미지첨부\n",
    "image = r'C:\\Users\\sackd\\openCV\\yoly\\screenshot.png'\n",
    "# image = image.encode('utf-8')\n",
    "\n",
    "\n",
    "part = MIMEBase(\"application\",\"octet-stream\")\n",
    "part.set_payload(open(image,'rb').read())\n",
    "encoders.encode_base64(part)\n",
    "part.add_header(\"content-Disposition\",\"attachment\",filename='image.png')\n",
    "msg.attach(part)\n",
    "\n",
    "s.sendmail(fromaddress,toaddress,msg.as_string())\n",
    "s.quit()"
   ]
  },
  {
   "cell_type": "code",
   "execution_count": null,
   "metadata": {},
   "outputs": [],
   "source": []
  }
 ],
 "metadata": {
  "kernelspec": {
   "display_name": "Python 3",
   "language": "python",
   "name": "python3"
  },
  "language_info": {
   "codemirror_mode": {
    "name": "ipython",
    "version": 3
   },
   "file_extension": ".py",
   "mimetype": "text/x-python",
   "name": "python",
   "nbconvert_exporter": "python",
   "pygments_lexer": "ipython3",
   "version": "3.7.7"
  }
 },
 "nbformat": 4,
 "nbformat_minor": 4
}
