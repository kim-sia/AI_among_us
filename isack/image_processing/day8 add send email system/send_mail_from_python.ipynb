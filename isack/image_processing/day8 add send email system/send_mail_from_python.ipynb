{
 "cells": [
  {
   "cell_type": "code",
   "execution_count": 5,
   "metadata": {},
   "outputs": [],
   "source": [
    "import smtplib, os\n",
    "from email import encoders #이미지 같은것을 문자열로 변환해줌\n",
    "from email.mime.text import MIMEText #메세지의 제목을 설정하기 위한 모듈\n",
    "from email.mime.multipart import MIMEMultipart #메세지의 내용을 설정하기 위한 모듈\n",
    "from email.mime.base import MIMEBase #전송할 때 사용하는 모듈"
   ]
  },
  {
   "cell_type": "code",
   "execution_count": 8,
   "metadata": {},
   "outputs": [],
   "source": [
    "# 발송 이메일\n",
    "fromaddress = 'sackda24@likelion.org'\n",
    "pw = '96952425'\n",
    "\n",
    "#수신 이메일\n",
    "toaddress = 'sackda24@naver.com'\n",
    "\n",
    "#이메일 제목\n",
    "msg = MIMEMultipart()\n",
    "msg['Subject'] = '이메일 테스트를 하고있습니다.'\n",
    "\n",
    "#이메일 내용\n",
    "text = MIMEText('안녕하세요. 지금은 테스트 중입니다.')\n",
    "\n",
    "#이메일 제목과 내용 합치기\n",
    "msg.attach(text)"
   ]
  },
  {
   "cell_type": "code",
   "execution_count": 11,
   "metadata": {},
   "outputs": [
    {
     "data": {
      "text/plain": [
       "(221, b'2.0.0 closing connection f4sm7974786pgr.68 - gsmtp')"
      ]
     },
     "execution_count": 11,
     "metadata": {},
     "output_type": "execute_result"
    }
   ],
   "source": [
    "s = smtplib.SMTP('smtp.gmail.com',587) #587: google smpt server password\n",
    "s.starttls() #tls방식으로 smpt 서버 접속\n",
    "s.login(fromaddress, pw) #fromaddress에 로그인\n",
    "\n",
    "#이미지첨부\n",
    "image = r'C:\\Users\\sackd\\Desktop\\images.png'\n",
    "# image = image.encode('utf-8')\n",
    "\n",
    "\n",
    "part = MIMEBase(\"application\",\"octet-stream\")\n",
    "part.set_payload(open(image,'rb').read())\n",
    "encoders.encode_base64(part)\n",
    "part.add_header(\"content-Disposition\",\"attachment\",filename='image.png')\n",
    "msg.attach(part)\n",
    "\n",
    "s.sendmail(fromaddress,toaddress,msg.as_string())\n",
    "s.quit()"
   ]
  },
  {
   "cell_type": "code",
   "execution_count": null,
   "metadata": {},
   "outputs": [],
   "source": []
  }
 ],
 "metadata": {
  "kernelspec": {
   "display_name": "Python 3",
   "language": "python",
   "name": "python3"
  },
  "language_info": {
   "codemirror_mode": {
    "name": "ipython",
    "version": 3
   },
   "file_extension": ".py",
   "mimetype": "text/x-python",
   "name": "python",
   "nbconvert_exporter": "python",
   "pygments_lexer": "ipython3",
   "version": "3.7.7"
  }
 },
 "nbformat": 4,
 "nbformat_minor": 4
}
