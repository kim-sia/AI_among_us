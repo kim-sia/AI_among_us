{
 "cells": [
  {
   "cell_type": "code",
   "execution_count": 12,
   "metadata": {},
   "outputs": [
    {
     "name": "stdout",
     "output_type": "stream",
     "text": [
      "401\n",
      "메시지를 성공적으로 보내지 못했습니다. 오류메시지 : {'msg': 'ip mismatched! callerIp=221.156.2.250. check out registered ips.', 'code': -401}\n"
     ]
    }
   ],
   "source": [
    "import json\n",
    "import requests\n",
    "\n",
    "url = \"https://kapi.kakao.com/v2/api/talk/memo/default/send\"\n",
    "\n",
    "# 사용자 토큰\n",
    "headers = {\n",
    "    \"Authorization\": \"Bearer \" + \"uCy5bJButu3y4cytGZL6yfjMZiBSLx_ZRBkzVwopcFAAAAF0mtYh0w\"\n",
    "}\n",
    "\n",
    "\n",
    "data = {\n",
    "    \"template_object\" : json.dumps({ \"object_type\" : \"text\",\n",
    "                                     \"text\" : \"Hello, world!\",\n",
    "                                     \"link\" : {\n",
    "                                                 \"web_url\" : \"www.youtube.com\"\n",
    "                                              }\n",
    "    })\n",
    "}\n",
    "\n",
    "response = requests.post(url, headers=headers, data=data)\n",
    "print(response.status_code)\n",
    "if response.json().get('result_code') == 0:\n",
    "    print('메시지를 성공적으로 보냈습니다.')\n",
    "else:\n",
    "    print('메시지를 성공적으로 보내지 못했습니다. 오류메시지 : ' + str(response.json()))\n",
    "  \n",
    "  "
   ]
  },
  {
   "cell_type": "code",
   "execution_count": null,
   "metadata": {},
   "outputs": [],
   "source": []
  },
  {
   "cell_type": "code",
   "execution_count": 17,
   "metadata": {},
   "outputs": [
    {
     "name": "stdout",
     "output_type": "stream",
     "text": [
      "{'access_token': 'qqjp-wHJj1fiXb5xO3qWimzskhBzqaCt6YCCWAo9c04AAAF0myKnJQ', 'token_type': 'bearer', 'refresh_token': '3o3lQosghQuq1mS95iU-evZOE_C__h6O7a3RLwo9c04AAAF0myKnJA', 'expires_in': 21599, 'scope': 'account_email talk_message profile', 'refresh_token_expires_in': 5183999}\n"
     ]
    }
   ],
   "source": [
    "url = \"https://kauth.kakao.com/oauth/token\"\n",
    "\n",
    "data = {\n",
    "    \"grant_type\" : \"authorization_code\",\n",
    "    \"client_id\" : \"098b3361420f6ad3b6c17afd67800814\",\n",
    "    \"redirect_uri\" : \"https://localhost.com\",\n",
    "    \"code\"         : \"DGgqEoucHkUrxOOE3EZFS6SmMPgLfKb9p7E_Brs7fbYZKdtHmRvE_DmUTbF5rZa4CwLglAo9dRoAAAF0myDI1Q\"\n",
    "    \n",
    "}\n",
    "response = requests.post(url, data=data)\n",
    "\n",
    "tokens = response.json()\n",
    "\n",
    "print(tokens)"
   ]
  },
  {
   "cell_type": "code",
   "execution_count": 18,
   "metadata": {},
   "outputs": [],
   "source": [
    "with open(\"kakao_token.json\", \"w\") as fp:\n",
    "    json.dump(tokens, fp)"
   ]
  },
  {
   "cell_type": "code",
   "execution_count": 19,
   "metadata": {},
   "outputs": [
    {
     "name": "stdout",
     "output_type": "stream",
     "text": [
      "{'error': 'invalid_client', 'error_description': 'Not exist client_id [c41274663b2adca6f0866cb814c0163a]'}\n"
     ]
    }
   ],
   "source": [
    "# 재발급시 사용코드\n",
    "url = \"https://kauth.kakao.com/oauth/token\"\n",
    "data = {\n",
    "    \"grant_type\" : \"refresh_token\",\n",
    "    \"client_id\"  : \"c41274663b2adca6f0866cb814c0163a\",\n",
    "    \"refresh_token\" : \"<refresh token을 입력하세요>\"\n",
    "}\n",
    "response = requests.post(url, data=data)\n",
    "\n",
    "print(response.json())"
   ]
  },
  {
   "cell_type": "code",
   "execution_count": 22,
   "metadata": {},
   "outputs": [
    {
     "name": "stdout",
     "output_type": "stream",
     "text": [
      "200\n",
      "메시지를 성공적으로 보냈습니다.\n"
     ]
    }
   ],
   "source": [
    "import json\n",
    "import requests\n",
    "\n",
    "url = \"https://kapi.kakao.com/v2/api/talk/memo/default/send\"\n",
    "\n",
    "# 사용자 토큰\n",
    "headers = {\n",
    "    \"Authorization\": \"Bearer \" + \"qqjp-wHJj1fiXb5xO3qWimzskhBzqaCt6YCCWAo9c04AAAF0myKnJQ\"\n",
    "}\n",
    "\n",
    "\n",
    "data = {\n",
    "    \"template_object\" : json.dumps({ \"object_type\" : \"text\",\n",
    "                                     \"text\" : \"Hello, world!\",\n",
    "                                     \"link\" : {\n",
    "                                                 \"web_url\" : \"www.naver.com\"\n",
    "                                              }\n",
    "    })\n",
    "}\n",
    "\n",
    "response = requests.post(url, headers=headers, data=data)\n",
    "print(response.status_code)\n",
    "if response.json().get('result_code') == 0:\n",
    "    print('메시지를 성공적으로 보냈습니다.')\n",
    "else:\n",
    "    print('메시지를 성공적으로 보내지 못했습니다. 오류메시지 : ' + str(response.json()))"
   ]
  },
  {
   "cell_type": "code",
   "execution_count": null,
   "metadata": {},
   "outputs": [],
   "source": []
  }
 ],
 "metadata": {
  "kernelspec": {
   "display_name": "Python 3",
   "language": "python",
   "name": "python3"
  },
  "language_info": {
   "codemirror_mode": {
    "name": "ipython",
    "version": 3
   },
   "file_extension": ".py",
   "mimetype": "text/x-python",
   "name": "python",
   "nbconvert_exporter": "python",
   "pygments_lexer": "ipython3",
   "version": "3.7.7"
  }
 },
 "nbformat": 4,
 "nbformat_minor": 4
}
